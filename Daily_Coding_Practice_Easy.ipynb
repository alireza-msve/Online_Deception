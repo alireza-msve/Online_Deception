{
 "cells": [
  {
   "cell_type": "code",
   "execution_count": 30,
   "metadata": {},
   "outputs": [
    {
     "name": "stdout",
     "output_type": "stream",
     "text": [
      "The number which will generate the longest sequence:  837799\n",
      "The corresponding length of the list: 525\n"
     ]
    }
   ],
   "source": [
    "# A Collatz sequence in mathematics can be defined as follows. Starting with any positive integer:\n",
    "#if n is even, the next number in the sequence is n / 2\n",
    "#if n is odd, the next number in the sequence is 3n + 1\n",
    "#It is conjectured that every such sequence eventually reaches the number 1. Test this conjecture.\n",
    "#Bonus: What input n <= 1000000 gives the longest sequence?\n",
    "\n",
    "\n",
    "def collatz():\n",
    "    new_lst = [];\n",
    "    for i in range(1000000):\n",
    "        lst = [i];\n",
    "        while i>1:\n",
    "            if (i % 2) == 0:\n",
    "                x = i/2;\n",
    "                i = int(x);\n",
    "                lst.append(i)\n",
    "            else:\n",
    "                x = (3*i + 1);\n",
    "                i = int(x);\n",
    "                lst.append(i)\n",
    "        new_lst.append(lst)\n",
    "    max_lst = max(new_lst, key = len) \n",
    "    lst_len = [len(x) for x in new_lst]\n",
    "    print('The number which will generate the longest sequence: ', max_lst[0])\n",
    "    print(\"The corresponding length of the list:\", max(lst_len))\n",
    "collatz()\n",
    "#Reza      "
   ]
  },
  {
   "cell_type": "code",
   "execution_count": 5,
   "metadata": {},
   "outputs": [
    {
     "name": "stdout",
     "output_type": "stream",
     "text": [
      "['f', 'b', 'a', 'c', 'd']\n"
     ]
    }
   ],
   "source": [
    "#A permutation can be specified by an array P, where P[i] represents the location of the element at i in the permutation. For example, [2, 1, 0] represents the permutation where elements at the index 0 and 2 are swapped.\n",
    "\n",
    "#Given an array and a permutation, apply the permutation to the array. For example, given the array [\"a\", \"b\", \"c\"] and the permutation [2, 1, 0], return [\"c\", \"b\", \"a\"].\n",
    "\n",
    "def permu(perm,arr):\n",
    "    perm_new = [];\n",
    "    for i in arr:\n",
    "        i = perm[i]\n",
    "        perm_new.append(i)\n",
    "    print(perm_new)\n",
    "perm = [\"a\",\"b\",\"c\",\"d\",\"f\"]\n",
    "arr = [4,1,0,2,3]\n",
    "permu(perm,arr)\n",
    "#Reza        \n",
    "    "
   ]
  },
  {
   "cell_type": "code",
   "execution_count": null,
   "metadata": {},
   "outputs": [],
   "source": []
  }
 ],
 "metadata": {
  "kernelspec": {
   "display_name": "Python 3",
   "language": "python",
   "name": "python3"
  },
  "language_info": {
   "codemirror_mode": {
    "name": "ipython",
    "version": 3
   },
   "file_extension": ".py",
   "mimetype": "text/x-python",
   "name": "python",
   "nbconvert_exporter": "python",
   "pygments_lexer": "ipython3",
   "version": "3.7.4"
  }
 },
 "nbformat": 4,
 "nbformat_minor": 2
}
